{
 "cells": [
  {
   "cell_type": "markdown",
   "metadata": {},
   "source": [
    "## 关联分析目标：\n",
    "    * 发现频繁项集\n",
    "    * 发现关联规则"
   ]
  },
  {
   "cell_type": "markdown",
   "metadata": {},
   "source": [
    "### 使用Apriori算法来发现频繁项集（满足最小支持度）\n",
    "    * 输入数据集和最小支持度\n",
    "    * 首先，生成所有单个物品的项集列表\n",
    "    * 扫描交易记录，查看哪些项集满足最小支持度要求，去掉不满足的\n",
    "    * 对剩下的集合进行组合以生成包含两个元素的项集\n",
    "    * 重新扫描交易记录，去掉不满足最小支持度的项集\n",
    "    * 重复上述过程，直到所有项集都被去掉。"
   ]
  },
  {
   "cell_type": "code",
   "execution_count": 1,
   "metadata": {},
   "outputs": [],
   "source": [
    "def loadDataSet():\n",
    "    '''生成数据集'''\n",
    "    dataSet = [[1, 3, 4],\n",
    "              [2, 3, 5],\n",
    "              [1, 2, 3, 5],\n",
    "              [2, 5]]\n",
    "    return dataSet"
   ]
  },
  {
   "cell_type": "code",
   "execution_count": 2,
   "metadata": {},
   "outputs": [],
   "source": [
    "def createC1(dataSet):\n",
    "    '''构建大小为 1 的所有候选项的集合'''\n",
    "    C1 = []                                 # 用于存储所有不重复的项值\n",
    "    for data in dataSet:                    # 遍历每一条数据\n",
    "        for item in data:                   # 遍历数据中的每一个项\n",
    "            if not [item] in C1:             \n",
    "                C1.append([item])\n",
    "    C1.sort()\n",
    "    return list(map(frozenset, C1))               # 对C1中的每个项构建一个不变集合"
   ]
  },
  {
   "cell_type": "code",
   "execution_count": 3,
   "metadata": {},
   "outputs": [],
   "source": [
    "def scanDataSet(dataSet, Ck, minSupport):\n",
    "    '''\n",
    "    D:数据集，Ck候选项集列表，minSupport：感兴趣项集的最小支持度\n",
    "    返回：包含满足最小支持度项的列表，包含支持度项和该项出现次数的字典\n",
    "    '''\n",
    "    ssCnt = {}                                 # 用于存放集合及其出现次数，键为集合，值为出现的次数\n",
    "    for data in dataSet:                       # 每一个数据  \n",
    "        for item in Ck:                        # 遍历C1中的值\n",
    "            if item.issubset(data):            # 如果ck中的值是数据的子集\n",
    "                ssCnt[item] = ssCnt.get(item, 0) + 1         #那么，保存该值，并记录这个值在数据集中出现的次数\n",
    "    \n",
    "    m = float(len(dataSet))                    # 总的样本数\n",
    "    Lk = []                                    # 空列表，用于存放满足最小支持度的项 \n",
    "    supportData = {}                           # 空列字典，用于存放满足最小支持度的项和该项出现的次数 \n",
    "    for key in ssCnt.keys():\n",
    "        support = ssCnt[key]/m\n",
    "        if support >= minSupport:\n",
    "            Lk.insert(0, key)\n",
    "        supportData[key] = support\n",
    "    return Lk, supportData                     # "
   ]
  },
  {
   "cell_type": "code",
   "execution_count": 4,
   "metadata": {},
   "outputs": [
    {
     "name": "stdout",
     "output_type": "stream",
     "text": [
      "dataSet: [[1, 3, 4], [2, 3, 5], [1, 2, 3, 5], [2, 5]]\n",
      "C1: [frozenset({1}), frozenset({2}), frozenset({3}), frozenset({4}), frozenset({5})]\n",
      "L1: [frozenset({5}), frozenset({2}), frozenset({3}), frozenset({1})]\n",
      "supportData: {frozenset({1}): 0.5, frozenset({3}): 0.75, frozenset({4}): 0.25, frozenset({2}): 0.75, frozenset({5}): 0.75}\n"
     ]
    }
   ],
   "source": [
    "# 测试\n",
    "dataSet = loadDataSet()\n",
    "print('dataSet:', dataSet)\n",
    "\n",
    "C1 = createC1(dataSet)\n",
    "print('C1:', list(C1))\n",
    "\n",
    "L1, supportData = scanDataSet(dataSet, C1, 0.5)\n",
    "print('L1:', L1)\n",
    "print('supportData:', supportData)"
   ]
  },
  {
   "cell_type": "code",
   "execution_count": 5,
   "metadata": {},
   "outputs": [],
   "source": [
    "def createCk(Lk, k):\n",
    "    '''\n",
    "    创建Ck，将满足最小支持度的集合进行组合\n",
    "    输入：频繁项集列表Lk，项集元素个数k\n",
    "    输出：Ck\n",
    "    '''\n",
    "    Ck = []\n",
    "    for i in range(len(Lk)):\n",
    "        for j in range(i+1, len(Lk)):\n",
    "            #print('i,j:',i,j)\n",
    "            L1 = list(Lk[i])[:k-2]\n",
    "            #print('L1:',L1)\n",
    "            L2 = list(Lk[j])[:k-2]\n",
    "            #print('L2:',L2)\n",
    "            L1.sort()\n",
    "            L2.sort()\n",
    "            if L1==L2:\n",
    "                Ck.append(Lk[i] | Lk[j])\n",
    "            #print(Ck)\n",
    "    return Ck"
   ]
  },
  {
   "cell_type": "code",
   "execution_count": 6,
   "metadata": {},
   "outputs": [],
   "source": [
    "def apriori(dataSet, minSupport=0.5):\n",
    "    C1 = createC1(dataSet)\n",
    "    L1, supportData = scanDataSet(dataSet, C1, minSupport)\n",
    "    \n",
    "    L = [L1]\n",
    "    k = 2\n",
    "    while(len(L[k-2])>0):\n",
    "        Ck = createCk(L[k-2], k)\n",
    "        Lk, supK = scanDataSet(dataSet, Ck, minSupport)\n",
    "        L.append(Lk)\n",
    "        supportData.update(supK)\n",
    "        k = k+1\n",
    "    return L, supportData"
   ]
  },
  {
   "cell_type": "code",
   "execution_count": 7,
   "metadata": {},
   "outputs": [
    {
     "name": "stdout",
     "output_type": "stream",
     "text": [
      "minSupport:0.5 [[frozenset({5}), frozenset({2}), frozenset({3}), frozenset({1})], [frozenset({2, 3}), frozenset({3, 5}), frozenset({2, 5}), frozenset({1, 3})], [frozenset({2, 3, 5})], []]\n"
     ]
    }
   ],
   "source": [
    "L, supportData = apriori(dataSet)\n",
    "print('minSupport:0.5', L)\n",
    "#print(supportData)"
   ]
  },
  {
   "cell_type": "markdown",
   "metadata": {},
   "source": [
    "### 从频繁项集中挖掘关联规则（满足可信度）"
   ]
  },
  {
   "cell_type": "code",
   "execution_count": 8,
   "metadata": {},
   "outputs": [],
   "source": [
    "def calcConf(freqSet, H, supportData, RuleList, minConf=0.7):\n",
    "    '''\n",
    "    计算最小可信度, 对规则进行评估\n",
    "    输入：频繁项集freqSet，组成频繁项集的单元素列表H\n",
    "    '''\n",
    "    prunedH = []\n",
    "    for conseq in H:\n",
    "        conf = supportData[freqSet]/supportData[freqSet-conseq]\n",
    "        if conf >= minConf:\n",
    "            print(freqSet-conseq, '==>', conseq, 'conf:', conf)\n",
    "            RuleList.append((freqSet-conseq, conseq, conf))\n",
    "            prunedH.append(conseq)\n",
    "    return prunedH"
   ]
  },
  {
   "cell_type": "code",
   "execution_count": 9,
   "metadata": {},
   "outputs": [],
   "source": [
    "def rulesFromConseq(freqSet, H, supportData, RuleList, minConf=0.7):\n",
    "    '''\n",
    "    输入：频繁项集freqSet，元素列表H，项集支持度，\n",
    "    生成候选规则集合\n",
    "    '''\n",
    "    m = len(H[0])\n",
    "    if (len(freqSet)>(m+1)):\n",
    "        Hmp1 = createCk(H, m+1)\n",
    "        Hmp1 = calcConf(freqSet, Hmp1, supportData, RuleList, minConf)\n",
    "        if (len(Hmp1)>1):\n",
    "            rulesFromConseq(freqSet, Hmp1, supportData, RuleList, minConf)"
   ]
  },
  {
   "cell_type": "code",
   "execution_count": 10,
   "metadata": {},
   "outputs": [],
   "source": [
    "def generateRules(L, supportData, minConf=0.7):\n",
    "    '''\n",
    "    输入：频繁项集列表L，包含{项集：支持度}的字典，最小可信度阈值\n",
    "    输出：包含可信度的规则列表\n",
    "    \n",
    "    '''\n",
    "    RuleList = []\n",
    "    for i in range(1, len(L)):                                 #关联规则无法在单元素集合中产生\n",
    "        for freqSet in L[i]:                                   #对每个含多元素的频繁项集           \n",
    "            \n",
    "            H1 = [frozenset([item]) for item in freqSet]       #创建单元素集合列表\n",
    "            if i>1:                                            # i>1时，freqSet中的频繁项集内元素个数大于2。需要对H1进行合并\n",
    "                rulesFromConseq(freqSet, H1, supportData, RuleList, minConf)   \n",
    "            else:                                              # i=1时，freqSet中频繁项集内元素个数等于2，可以直接计算可信度 \n",
    "                calcConf(freqSet, H1, supportData, RuleList, minConf)\n",
    "    return RuleList"
   ]
  },
  {
   "cell_type": "code",
   "execution_count": 11,
   "metadata": {},
   "outputs": [
    {
     "name": "stdout",
     "output_type": "stream",
     "text": [
      "frozenset({5}) ==> frozenset({2}) conf: 1.0\n",
      "frozenset({2}) ==> frozenset({5}) conf: 1.0\n",
      "frozenset({1}) ==> frozenset({3}) conf: 1.0\n"
     ]
    },
    {
     "data": {
      "text/plain": [
       "[(frozenset({5}), frozenset({2}), 1.0),\n",
       " (frozenset({2}), frozenset({5}), 1.0),\n",
       " (frozenset({1}), frozenset({3}), 1.0)]"
      ]
     },
     "execution_count": 11,
     "metadata": {},
     "output_type": "execute_result"
    }
   ],
   "source": [
    "L, supportData = apriori(dataSet,0.5)\n",
    "generateRules(L, supportData, minConf=0.7)"
   ]
  },
  {
   "cell_type": "code",
   "execution_count": 12,
   "metadata": {},
   "outputs": [
    {
     "name": "stdout",
     "output_type": "stream",
     "text": [
      "frozenset({3}) ==> frozenset({2}) conf: 0.6666666666666666\n",
      "frozenset({2}) ==> frozenset({3}) conf: 0.6666666666666666\n",
      "frozenset({5}) ==> frozenset({3}) conf: 0.6666666666666666\n",
      "frozenset({3}) ==> frozenset({5}) conf: 0.6666666666666666\n",
      "frozenset({5}) ==> frozenset({2}) conf: 1.0\n",
      "frozenset({2}) ==> frozenset({5}) conf: 1.0\n",
      "frozenset({3}) ==> frozenset({1}) conf: 0.6666666666666666\n",
      "frozenset({1}) ==> frozenset({3}) conf: 1.0\n",
      "frozenset({5}) ==> frozenset({2, 3}) conf: 0.6666666666666666\n",
      "frozenset({3}) ==> frozenset({2, 5}) conf: 0.6666666666666666\n",
      "frozenset({2}) ==> frozenset({3, 5}) conf: 0.6666666666666666\n"
     ]
    }
   ],
   "source": [
    "rules = generateRules(L, supportData, minConf=0.5)"
   ]
  },
  {
   "cell_type": "markdown",
   "metadata": {},
   "source": [
    "## 发现毒蘑菇的相似特征"
   ]
  },
  {
   "cell_type": "code",
   "execution_count": 13,
   "metadata": {},
   "outputs": [
    {
     "name": "stdout",
     "output_type": "stream",
     "text": [
      "frozenset({'28', '2'})\n",
      "frozenset({'53', '2'})\n",
      "frozenset({'23', '2'})\n",
      "frozenset({'34', '2'})\n",
      "frozenset({'2', '36'})\n",
      "frozenset({'59', '2'})\n",
      "frozenset({'63', '2'})\n",
      "frozenset({'67', '2'})\n",
      "frozenset({'76', '2'})\n",
      "frozenset({'85', '2'})\n",
      "frozenset({'86', '2'})\n",
      "frozenset({'2', '90'})\n",
      "frozenset({'93', '2'})\n",
      "frozenset({'39', '2'})\n"
     ]
    }
   ],
   "source": [
    "mushDatSet = [line.split() for line in open('data/mushroom.dat').readlines()]\n",
    "L, suppData = apriori(mushDatSet, minSupport=0.3)\n",
    "for item in L[1]:\n",
    "    if item.intersection('2'):\n",
    "        print(item)"
   ]
  },
  {
   "cell_type": "code",
   "execution_count": 14,
   "metadata": {},
   "outputs": [
    {
     "name": "stdout",
     "output_type": "stream",
     "text": [
      "frozenset({'28', '59', '34', '2'})\n",
      "frozenset({'28', '85', '34', '2'})\n",
      "frozenset({'28', '90', '34', '2'})\n",
      "frozenset({'28', '59', '85', '2'})\n",
      "frozenset({'28', '59', '90', '2'})\n",
      "frozenset({'28', '63', '34', '2'})\n",
      "frozenset({'28', '59', '63', '2'})\n",
      "frozenset({'28', '85', '63', '2'})\n",
      "frozenset({'28', '86', '63', '2'})\n",
      "frozenset({'28', '39', '63', '2'})\n",
      "frozenset({'28', '86', '34', '2'})\n",
      "frozenset({'28', '86', '59', '2'})\n",
      "frozenset({'28', '86', '85', '2'})\n",
      "frozenset({'28', '86', '90', '2'})\n",
      "frozenset({'28', '90', '85', '2'})\n",
      "frozenset({'28', '39', '34', '2'})\n",
      "frozenset({'28', '39', '59', '2'})\n",
      "frozenset({'28', '39', '85', '2'})\n",
      "frozenset({'28', '39', '86', '2'})\n",
      "frozenset({'28', '39', '90', '2'})\n",
      "frozenset({'53', '90', '34', '2'})\n",
      "frozenset({'53', '85', '34', '2'})\n",
      "frozenset({'53', '86', '85', '2'})\n",
      "frozenset({'53', '90', '85', '2'})\n",
      "frozenset({'53', '39', '85', '2'})\n",
      "frozenset({'53', '28', '85', '2'})\n",
      "frozenset({'53', '86', '34', '2'})\n",
      "frozenset({'53', '86', '90', '2'})\n",
      "frozenset({'53', '86', '39', '2'})\n",
      "frozenset({'53', '39', '34', '2'})\n",
      "frozenset({'53', '39', '90', '2'})\n",
      "frozenset({'53', '28', '34', '2'})\n",
      "frozenset({'53', '28', '86', '2'})\n",
      "frozenset({'53', '28', '90', '2'})\n",
      "frozenset({'53', '28', '39', '2'})\n",
      "frozenset({'36', '23', '34', '2'})\n",
      "frozenset({'59', '23', '34', '2'})\n",
      "frozenset({'90', '23', '34', '2'})\n",
      "frozenset({'59', '36', '23', '2'})\n",
      "frozenset({'59', '90', '23', '2'})\n",
      "frozenset({'23', '63', '34', '2'})\n",
      "frozenset({'36', '23', '63', '2'})\n",
      "frozenset({'59', '23', '63', '2'})\n",
      "frozenset({'86', '23', '63', '2'})\n",
      "frozenset({'23', '85', '34', '2'})\n",
      "frozenset({'36', '23', '85', '2'})\n",
      "frozenset({'59', '23', '85', '2'})\n",
      "frozenset({'23', '85', '63', '2'})\n",
      "frozenset({'86', '23', '85', '2'})\n",
      "frozenset({'90', '23', '85', '2'})\n",
      "frozenset({'93', '23', '85', '2'})\n",
      "frozenset({'86', '23', '34', '2'})\n",
      "frozenset({'86', '36', '23', '2'})\n",
      "frozenset({'86', '59', '23', '2'})\n",
      "frozenset({'86', '90', '23', '2'})\n",
      "frozenset({'93', '23', '34', '2'})\n",
      "frozenset({'93', '36', '23', '2'})\n",
      "frozenset({'93', '59', '23', '2'})\n",
      "frozenset({'93', '86', '23', '2'})\n",
      "frozenset({'93', '90', '23', '2'})\n",
      "frozenset({'59', '36', '34', '2'})\n",
      "frozenset({'59', '90', '34', '2'})\n",
      "frozenset({'90', '36', '34', '2'})\n",
      "frozenset({'59', '90', '36', '2'})\n",
      "frozenset({'36', '63', '34', '2'})\n",
      "frozenset({'59', '63', '34', '2'})\n",
      "frozenset({'90', '63', '34', '2'})\n",
      "frozenset({'59', '36', '63', '2'})\n",
      "frozenset({'86', '63', '34', '2'})\n",
      "frozenset({'86', '36', '63', '2'})\n",
      "frozenset({'86', '59', '63', '2'})\n",
      "frozenset({'86', '90', '63', '2'})\n",
      "frozenset({'90', '36', '63', '2'})\n",
      "frozenset({'59', '90', '63', '2'})\n",
      "frozenset({'93', '63', '34', '2'})\n",
      "frozenset({'93', '36', '63', '2'})\n",
      "frozenset({'93', '59', '63', '2'})\n",
      "frozenset({'93', '86', '63', '2'})\n",
      "frozenset({'93', '90', '63', '2'})\n",
      "frozenset({'36', '85', '34', '2'})\n",
      "frozenset({'59', '85', '34', '2'})\n",
      "frozenset({'90', '85', '34', '2'})\n",
      "frozenset({'59', '36', '85', '2'})\n",
      "frozenset({'59', '90', '85', '2'})\n",
      "frozenset({'85', '63', '34', '2'})\n",
      "frozenset({'36', '85', '63', '2'})\n",
      "frozenset({'59', '85', '63', '2'})\n",
      "frozenset({'86', '85', '63', '2'})\n",
      "frozenset({'90', '85', '63', '2'})\n",
      "frozenset({'93', '85', '63', '2'})\n",
      "frozenset({'67', '85', '34', '2'})\n",
      "frozenset({'67', '86', '85', '2'})\n",
      "frozenset({'85', '76', '34', '2'})\n",
      "frozenset({'86', '85', '76', '2'})\n",
      "frozenset({'86', '85', '34', '2'})\n",
      "frozenset({'86', '36', '85', '2'})\n",
      "frozenset({'86', '59', '85', '2'})\n",
      "frozenset({'86', '90', '85', '2'})\n",
      "frozenset({'86', '93', '85', '2'})\n",
      "frozenset({'90', '36', '85', '2'})\n",
      "frozenset({'93', '85', '34', '2'})\n",
      "frozenset({'93', '36', '85', '2'})\n",
      "frozenset({'93', '59', '85', '2'})\n",
      "frozenset({'93', '90', '85', '2'})\n",
      "frozenset({'86', '36', '34', '2'})\n",
      "frozenset({'86', '59', '34', '2'})\n",
      "frozenset({'86', '67', '34', '2'})\n",
      "frozenset({'86', '76', '34', '2'})\n",
      "frozenset({'86', '90', '34', '2'})\n",
      "frozenset({'86', '59', '36', '2'})\n",
      "frozenset({'86', '59', '90', '2'})\n",
      "frozenset({'86', '90', '36', '2'})\n",
      "frozenset({'93', '36', '34', '2'})\n",
      "frozenset({'93', '59', '34', '2'})\n",
      "frozenset({'93', '86', '34', '2'})\n",
      "frozenset({'93', '90', '34', '2'})\n",
      "frozenset({'93', '59', '36', '2'})\n",
      "frozenset({'93', '59', '90', '2'})\n",
      "frozenset({'86', '93', '36', '2'})\n",
      "frozenset({'86', '93', '59', '2'})\n",
      "frozenset({'86', '93', '90', '2'})\n",
      "frozenset({'93', '90', '36', '2'})\n",
      "frozenset({'39', '23', '34', '2'})\n",
      "frozenset({'39', '36', '23', '2'})\n",
      "frozenset({'39', '59', '23', '2'})\n",
      "frozenset({'39', '23', '63', '2'})\n",
      "frozenset({'39', '23', '85', '2'})\n",
      "frozenset({'39', '86', '23', '2'})\n",
      "frozenset({'93', '39', '23', '2'})\n",
      "frozenset({'39', '36', '34', '2'})\n",
      "frozenset({'39', '59', '34', '2'})\n",
      "frozenset({'39', '67', '34', '2'})\n",
      "frozenset({'39', '76', '34', '2'})\n",
      "frozenset({'39', '86', '34', '2'})\n",
      "frozenset({'39', '90', '34', '2'})\n",
      "frozenset({'39', '59', '36', '2'})\n",
      "frozenset({'39', '59', '90', '2'})\n",
      "frozenset({'39', '63', '34', '2'})\n",
      "frozenset({'39', '36', '63', '2'})\n",
      "frozenset({'39', '59', '63', '2'})\n",
      "frozenset({'39', '86', '63', '2'})\n",
      "frozenset({'39', '90', '63', '2'})\n",
      "frozenset({'93', '39', '63', '2'})\n",
      "frozenset({'39', '86', '76', '2'})\n",
      "frozenset({'39', '85', '34', '2'})\n",
      "frozenset({'39', '36', '85', '2'})\n",
      "frozenset({'39', '59', '85', '2'})\n",
      "frozenset({'39', '85', '63', '2'})\n",
      "frozenset({'39', '67', '85', '2'})\n",
      "frozenset({'39', '85', '76', '2'})\n",
      "frozenset({'39', '86', '85', '2'})\n",
      "frozenset({'39', '90', '85', '2'})\n",
      "frozenset({'39', '93', '85', '2'})\n",
      "frozenset({'39', '86', '36', '2'})\n",
      "frozenset({'39', '86', '59', '2'})\n",
      "frozenset({'39', '86', '67', '2'})\n",
      "frozenset({'39', '86', '90', '2'})\n",
      "frozenset({'39', '90', '36', '2'})\n",
      "frozenset({'93', '39', '34', '2'})\n",
      "frozenset({'93', '39', '36', '2'})\n",
      "frozenset({'93', '39', '59', '2'})\n",
      "frozenset({'93', '39', '86', '2'})\n",
      "frozenset({'93', '39', '90', '2'})\n"
     ]
    }
   ],
   "source": [
    "for item in L[3]:\n",
    "    if item.intersection('2'):\n",
    "        print(item)"
   ]
  },
  {
   "cell_type": "code",
   "execution_count": null,
   "metadata": {},
   "outputs": [],
   "source": []
  }
 ],
 "metadata": {
  "kernelspec": {
   "display_name": "Python 3",
   "language": "python",
   "name": "python3"
  },
  "language_info": {
   "codemirror_mode": {
    "name": "ipython",
    "version": 3
   },
   "file_extension": ".py",
   "mimetype": "text/x-python",
   "name": "python",
   "nbconvert_exporter": "python",
   "pygments_lexer": "ipython3",
   "version": "3.6.6"
  }
 },
 "nbformat": 4,
 "nbformat_minor": 2
}

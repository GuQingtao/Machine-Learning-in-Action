{
 "cells": [
  {
   "cell_type": "markdown",
   "metadata": {},
   "source": [
    "### 导入数据集"
   ]
  },
  {
   "cell_type": "code",
   "execution_count": 1,
   "metadata": {},
   "outputs": [],
   "source": [
    "def loadSimpDat():\n",
    "    simpDat = [['r', 'z', 'h', 'j', 'p'],\n",
    "               ['z', 'y', 'x', 'w', 'v', 'u', 't', 's'],\n",
    "               ['z'],\n",
    "               ['r', 'x', 'n', 'o', 's'],\n",
    "               ['y', 'r', 'x', 'z', 'q', 't', 'p'],\n",
    "               ['y', 'z', 'x', 'e', 'q', 's', 't', 'm']]\n",
    "    return simpDat\n",
    "\n",
    "def createInitSet(dataSet):\n",
    "    retDict = {}\n",
    "    for trans in dataSet:\n",
    "        retDict[frozenset(trans)] = 1\n",
    "    return retDict"
   ]
  },
  {
   "cell_type": "markdown",
   "metadata": {},
   "source": [
    "## 定义FP树的数据结构"
   ]
  },
  {
   "cell_type": "code",
   "execution_count": 2,
   "metadata": {},
   "outputs": [],
   "source": [
    "class treeNode:\n",
    "    def __init__(self, nameValue, numOccur,parentNode):\n",
    "        self.name = nameValue        #节点名称                         \n",
    "        self.count = numOccur        #计数值\n",
    "        self.nodeLink = None         #链接相似的元素项\n",
    "        self.parent = parentNode     #指向父节点\n",
    "        self.children = {}           #指向子节点\n",
    "    \n",
    "    def inc(self, numOccur):\n",
    "        self.count += numOccur\n",
    "        \n",
    "    def disp(self, ind=1):\n",
    "        print(' '*ind, self.name, ' ', self.count)\n",
    "        for child in self.children.values():\n",
    "            child.disp(ind+1)"
   ]
  },
  {
   "cell_type": "code",
   "execution_count": 3,
   "metadata": {},
   "outputs": [
    {
     "name": "stdout",
     "output_type": "stream",
     "text": [
      "  pyramid   9\n",
      "   eye   13\n",
      "   phoenix   3\n"
     ]
    }
   ],
   "source": [
    "# 调试运行\n",
    "rootNode = treeNode('pyramid', 9, None)\n",
    "rootNode.children['eye'] = treeNode('eye', 13, None)\n",
    "rootNode.children['phoenix'] = treeNode('phoenix', 3, None)\n",
    "rootNode.disp()"
   ]
  },
  {
   "cell_type": "markdown",
   "metadata": {},
   "source": [
    "## 构建FP树\n",
    "* 定义头指针表：使用字典记录FP树中每类元素的总数并指向给定类型的第一个实例，可快速访问FP树中一个给定类型的所有元素。\n",
    "* 第一次遍历，获得每个元素项的出现频率，去掉不满足最小支持度的元素项，将其保存到头指针表中。\n",
    "* 对事务进行筛选、排序\n",
    "* 构建FP树\n",
    "    * 对每个项集将其添加到树中\n",
    "        * 若路径存在，则增加已有的元素的值\n",
    "        * 如路径不存在，则创建一条新的路径。"
   ]
  },
  {
   "cell_type": "code",
   "execution_count": 4,
   "metadata": {},
   "outputs": [],
   "source": [
    "def updateHeader(nodeToTest, targetNode):\n",
    "    '''\n",
    "    更新头链表，确保节点链接指向该元素项的每一个实例\n",
    "    输入：头指针列表中的指针nodeToTest，待链接的新节点targetNode\n",
    "    '''\n",
    "    while (nodeToTest.nodeLink != None):\n",
    "        nodeToTest = nodeToTest.nodelink\n",
    "    nodeToTest.nodelink = targetNode"
   ]
  },
  {
   "cell_type": "code",
   "execution_count": 5,
   "metadata": {},
   "outputs": [],
   "source": [
    "def updateTree(items, inTree, headerTable,count):\n",
    "    '''\n",
    "    更新树，使树生长\n",
    "    输入：元素排序后的事务items，待更新的FP树inTree，头指针列表headerTable, 事务出现的次数count\n",
    "    '''\n",
    "    if items[0] in inTree.children:                 # 若事务中的元素已经在树中，则计数值增加\n",
    "        inTree.children[items[0]].inc(count)         \n",
    "    else:                                           # 否则，新建一条分支\n",
    "        inTree.children[items[0]] = treeNode(items[0], count, inTree)\n",
    "        if headerTable[items[0]][1] == None:        # 如果头指针列表中没有指向该元素的指针，则添加\n",
    "            headerTable[items[0]][1] = inTree.children[items[0]]\n",
    "        else:                                       #否则，更新头链表\n",
    "            updateHeader(headerTable[items[0]][1], inTree.children[items[0]])\n",
    "            \n",
    "    if len(items) > 1:                              # 迭代处理其他元素 \n",
    "        updateTree(items[1::], inTree.children[items[0]], headerTable, count)"
   ]
  },
  {
   "cell_type": "code",
   "execution_count": 6,
   "metadata": {},
   "outputs": [],
   "source": [
    "def createTree(dataSet, minSup=1):\n",
    "    '''\n",
    "    构建FP树\n",
    "    输入：数据集dataSet，最小支持度minSup\n",
    "    输出：FP树retTree，头指针列表headerTable\n",
    "    '''\n",
    "    \n",
    "    headerTable = {}                         # 定义一个空字典，用于存储头指针列表\n",
    "    for trans in dataSet:                    # 对数据集中的每一个事务                  #第一次遍历\n",
    "        for item in trans:                   # 对 事务 中的每一个元素\n",
    "            headerTable[item] = headerTable.get(item, 0) + dataSet[trans]  # 记录元素，并统计出现次数\n",
    "    \n",
    "    for k in list(headerTable.keys()):       # 去除不满足最小支持度的项集，得到只含频繁项集的头指针列表   \n",
    "        if headerTable[k] < minSup:\n",
    "            del(headerTable[k])\n",
    "    \n",
    "    freqItemSet = set(headerTable.keys())    # 保存频繁向集中的元素 \n",
    "    #print(freqItemSet)\n",
    "    if len(freqItemSet) == 0:                # 若频繁项集中没有元素，则退出       \n",
    "        return None, None\n",
    "    for k in freqItemSet:                    # 否则，对头指针列表进行修改，使之可以同时保存 元素出现的次数 和 指向每种类型第一个元素的指针\n",
    "        headerTable[k] = [headerTable[k], None]\n",
    "        \n",
    "    retTree = treeNode('Null Set', 1, None)  # 初始化FP树\n",
    "    \n",
    "    for tranSet, count in dataSet.items():   # 根据全局频率对每个事务中的元素进行排序\n",
    "        localD = {}\n",
    "        for item in tranSet:\n",
    "            if item in freqItemSet:\n",
    "                localD[item] = headerTable[item][0]\n",
    "        if len(localD) > 0:\n",
    "            orderedItems = [v[0] for v in sorted(localD.items(),\n",
    "                                                 key=lambda p:p[1], \n",
    "                                                 reverse=True)]\n",
    "            #print(orderedItems)\n",
    "            updateTree(orderedItems, retTree, headerTable, count)\n",
    "    return retTree, headerTable  "
   ]
  },
  {
   "cell_type": "markdown",
   "metadata": {},
   "source": [
    "### 测试构建的FP树"
   ]
  },
  {
   "cell_type": "code",
   "execution_count": 7,
   "metadata": {},
   "outputs": [
    {
     "data": {
      "text/plain": [
       "[['r', 'z', 'h', 'j', 'p'],\n",
       " ['z', 'y', 'x', 'w', 'v', 'u', 't', 's'],\n",
       " ['z'],\n",
       " ['r', 'x', 'n', 'o', 's'],\n",
       " ['y', 'r', 'x', 'z', 'q', 't', 'p'],\n",
       " ['y', 'z', 'x', 'e', 'q', 's', 't', 'm']]"
      ]
     },
     "execution_count": 7,
     "metadata": {},
     "output_type": "execute_result"
    }
   ],
   "source": [
    "simpDat = loadSimpDat()\n",
    "simpDat"
   ]
  },
  {
   "cell_type": "code",
   "execution_count": 8,
   "metadata": {},
   "outputs": [
    {
     "data": {
      "text/plain": [
       "{frozenset({'h', 'j', 'p', 'r', 'z'}): 1,\n",
       " frozenset({'s', 't', 'u', 'v', 'w', 'x', 'y', 'z'}): 1,\n",
       " frozenset({'z'}): 1,\n",
       " frozenset({'n', 'o', 'r', 's', 'x'}): 1,\n",
       " frozenset({'p', 'q', 'r', 't', 'x', 'y', 'z'}): 1,\n",
       " frozenset({'e', 'm', 'q', 's', 't', 'x', 'y', 'z'}): 1}"
      ]
     },
     "execution_count": 8,
     "metadata": {},
     "output_type": "execute_result"
    }
   ],
   "source": [
    "initSet = createInitSet(simpDat)\n",
    "initSet"
   ]
  },
  {
   "cell_type": "code",
   "execution_count": 9,
   "metadata": {},
   "outputs": [
    {
     "name": "stdout",
     "output_type": "stream",
     "text": [
      "  Null Set   1\n",
      "   z   5\n",
      "    r   1\n",
      "    x   3\n",
      "     t   3\n",
      "      y   3\n",
      "       s   2\n",
      "       r   1\n",
      "   x   1\n",
      "    s   1\n",
      "     r   1\n"
     ]
    }
   ],
   "source": [
    "myFPtree, myHeaderTable = createTree(initSet, 3)\n",
    "myFPtree.disp()"
   ]
  },
  {
   "cell_type": "markdown",
   "metadata": {},
   "source": [
    "## 挖掘频繁项集\n",
    "* 类似Apriori算法，先从单元素项开始，逐步构建更大的元素集合\n",
    "* 从FP树中抽取频繁项集的三个基本步骤\n",
    "    * 从Fp树中获得条件模式基\n",
    "    * 利用条件模式基，构建一个条件FP树\n",
    "    * 迭代重复上述两步，直到树包含一个元素项为止。"
   ]
  },
  {
   "cell_type": "markdown",
   "metadata": {},
   "source": [
    "### 抽取条件模式基\n",
    "条件模式基：以所查找元素项为结尾的路径集合。每条路径都是一条前缀路径，即介于所查找元素项与根节点之间的所有内容。\n",
    "每一条前缀路径都与一个计数值关联，该计数值等于起始元素项的计数值。\n",
    "获取前缀路径的方法：\n",
    "* 对树进行穷举式搜索，直到获得想要的频繁项集为止\n",
    "* 利用头指针表。头指针表包含相同类型元素链表的起始指针，一旦到达了每一个元素项，就可以上溯这棵树直到根节点为止。"
   ]
  },
  {
   "cell_type": "code",
   "execution_count": 10,
   "metadata": {},
   "outputs": [],
   "source": [
    "def ascendTree(leafNode, prefixPath):   \n",
    "    '''\n",
    "    迭代上溯整棵树\n",
    "    输入：叶子节点leafNode, 空的前缀路径列表prefixPath\n",
    "    '''\n",
    "    if leafNode.parent != None:\n",
    "        prefixPath.append(leafNode.name)\n",
    "        ascendTree(leafNode.parent, prefixPath)"
   ]
  },
  {
   "cell_type": "code",
   "execution_count": 11,
   "metadata": {},
   "outputs": [],
   "source": [
    "def findPrefixPath(treeNode):\n",
    "    '''\n",
    "    由头指针表找到前缀路径\n",
    "    输入：指定的树节点\n",
    "    '''\n",
    "    condPats = {}\n",
    "    while treeNode != None:\n",
    "        prefixPath = []\n",
    "        ascendTree(treeNode, prefixPath)\n",
    "        if len(prefixPath) > 1: \n",
    "            condPats[frozenset(prefixPath[1:])] = treeNode.count\n",
    "        treeNode = treeNode.nodeLink\n",
    "    return condPats"
   ]
  },
  {
   "cell_type": "code",
   "execution_count": 12,
   "metadata": {},
   "outputs": [
    {
     "data": {
      "text/plain": [
       "{'z': [5, <__main__.treeNode at 0x4df6cc0>],\n",
       " 'r': [3, <__main__.treeNode at 0x4df67f0>],\n",
       " 't': [3, <__main__.treeNode at 0x4df6e10>],\n",
       " 'y': [3, <__main__.treeNode at 0x4df6e80>],\n",
       " 'x': [4, <__main__.treeNode at 0x4df6898>],\n",
       " 's': [3, <__main__.treeNode at 0x4df69b0>]}"
      ]
     },
     "execution_count": 12,
     "metadata": {},
     "output_type": "execute_result"
    }
   ],
   "source": [
    "myHeaderTable"
   ]
  },
  {
   "cell_type": "code",
   "execution_count": 13,
   "metadata": {},
   "outputs": [
    {
     "data": {
      "text/plain": [
       "{frozenset({'z'}): 3}"
      ]
     },
     "execution_count": 13,
     "metadata": {},
     "output_type": "execute_result"
    }
   ],
   "source": [
    "# 调试\n",
    "findPrefixPath(myHeaderTable['x'][1])"
   ]
  },
  {
   "cell_type": "code",
   "execution_count": 14,
   "metadata": {},
   "outputs": [
    {
     "data": {
      "text/plain": [
       "{}"
      ]
     },
     "execution_count": 14,
     "metadata": {},
     "output_type": "execute_result"
    }
   ],
   "source": [
    "findPrefixPath(myHeaderTable['z'][1])"
   ]
  },
  {
   "cell_type": "code",
   "execution_count": 15,
   "metadata": {},
   "outputs": [
    {
     "data": {
      "text/plain": [
       "{frozenset({'t', 'x', 'z'}): 3}"
      ]
     },
     "execution_count": 15,
     "metadata": {},
     "output_type": "execute_result"
    }
   ],
   "source": [
    "findPrefixPath(myHeaderTable['y'][1])"
   ]
  },
  {
   "cell_type": "markdown",
   "metadata": {},
   "source": [
    "### 创建条件FP树\n",
    "对于每一个频繁项集，都要创建一颗条件FP树"
   ]
  },
  {
   "cell_type": "code",
   "execution_count": 16,
   "metadata": {},
   "outputs": [],
   "source": [
    "def mineTree(inTree, headerTable, minSup, preFix, freqItemList):\n",
    "    bigL = [v[0] for v in sorted(headerTable.items(), key=lambda p: p[0])]   #对头指针列表中的元素项按照其出现频率进行排序\n",
    "    \n",
    "    for basePat in bigL:                          # 将每一项添加到频繁项集列表中\n",
    "        newFreqSet = preFix.copy()\n",
    "        newFreqSet.add(basePat)\n",
    "        freqItemList.append(newFreqSet)\n",
    "        \n",
    "        condPattBases = findPrefixPath(headerTable[basePat][1]) # 创建条件基\n",
    "        #print(condPattBases)\n",
    "       \n",
    "        myCondTree, myHead = createTree(condPattBases, minSup)\n",
    "        \n",
    "        if myHead != None: #3. mine cond. FP-tree\n",
    "            print('conditional tree for: ',newFreqSet)\n",
    "            myCondTree.disp(1)            \n",
    "            mineTree(myCondTree, myHead, minSup, newFreqSet, freqItemList)"
   ]
  },
  {
   "cell_type": "code",
   "execution_count": 17,
   "metadata": {},
   "outputs": [
    {
     "name": "stdout",
     "output_type": "stream",
     "text": [
      "conditional tree for:  {'t'}\n",
      "  Null Set   1\n",
      "   x   3\n",
      "    z   3\n",
      "conditional tree for:  {'t', 'z'}\n",
      "  Null Set   1\n",
      "   x   3\n",
      "conditional tree for:  {'x'}\n",
      "  Null Set   1\n",
      "   z   3\n",
      "conditional tree for:  {'y'}\n",
      "  Null Set   1\n",
      "   t   3\n",
      "    x   3\n",
      "     z   3\n",
      "conditional tree for:  {'x', 'y'}\n",
      "  Null Set   1\n",
      "   t   3\n",
      "conditional tree for:  {'y', 'z'}\n",
      "  Null Set   1\n",
      "   t   3\n",
      "    x   3\n",
      "conditional tree for:  {'x', 'y', 'z'}\n",
      "  Null Set   1\n",
      "   t   3\n"
     ]
    }
   ],
   "source": [
    "mineTree(myFPtree, myHeaderTable, 3, set([]),[])"
   ]
  },
  {
   "cell_type": "markdown",
   "metadata": {},
   "source": [
    "## 从新闻网站点击流中挖掘数据"
   ]
  },
  {
   "cell_type": "code",
   "execution_count": 18,
   "metadata": {},
   "outputs": [
    {
     "name": "stdout",
     "output_type": "stream",
     "text": [
      "conditional tree for:  {'11'}\n",
      "  Null Set   1\n",
      "   6   261773\n"
     ]
    }
   ],
   "source": [
    "parseDat = [line.split() for line in open('data/kosarak.dat').readlines()]\n",
    "initSet = createInitSet(parseDat)\n",
    "myFPtree, myHeaderTable = createTree(initSet, 100000)\n",
    "myFreqList = []\n",
    "mineTree(myFPtree, myHeaderTable, 100000, set([]), myFreqList)"
   ]
  },
  {
   "cell_type": "code",
   "execution_count": 20,
   "metadata": {},
   "outputs": [
    {
     "data": {
      "text/plain": [
       "5"
      ]
     },
     "execution_count": 20,
     "metadata": {},
     "output_type": "execute_result"
    }
   ],
   "source": [
    "len(myFreqList)"
   ]
  },
  {
   "cell_type": "code",
   "execution_count": 21,
   "metadata": {},
   "outputs": [
    {
     "data": {
      "text/plain": [
       "[{'1'}, {'11'}, {'11', '6'}, {'3'}, {'6'}]"
      ]
     },
     "execution_count": 21,
     "metadata": {},
     "output_type": "execute_result"
    }
   ],
   "source": [
    "myFreqList"
   ]
  },
  {
   "cell_type": "code",
   "execution_count": null,
   "metadata": {},
   "outputs": [],
   "source": []
  }
 ],
 "metadata": {
  "kernelspec": {
   "display_name": "Python 3",
   "language": "python",
   "name": "python3"
  },
  "language_info": {
   "codemirror_mode": {
    "name": "ipython",
    "version": 3
   },
   "file_extension": ".py",
   "mimetype": "text/x-python",
   "name": "python",
   "nbconvert_exporter": "python",
   "pygments_lexer": "ipython3",
   "version": "3.6.6"
  }
 },
 "nbformat": 4,
 "nbformat_minor": 2
}

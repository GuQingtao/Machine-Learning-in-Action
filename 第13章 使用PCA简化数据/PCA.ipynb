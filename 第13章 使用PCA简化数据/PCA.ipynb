{
 "cells": [
  {
   "cell_type": "code",
   "execution_count": 1,
   "metadata": {},
   "outputs": [],
   "source": [
    "from numpy import *"
   ]
  },
  {
   "cell_type": "code",
   "execution_count": 2,
   "metadata": {},
   "outputs": [],
   "source": [
    "def loadDataSet(fileName, delim='\\t'):\n",
    "    '''\n",
    "    导入数据\n",
    "    输入：文件名filename，分隔符 \\t\n",
    "    输出：数据集\n",
    "    '''\n",
    "    fr = open(fileName)\n",
    "    stringArr = [line.strip().split(delim) for line in fr.readlines()]\n",
    "    datArr = [list(map(float,line)) for line in stringArr]\n",
    "    return mat(datArr)"
   ]
  },
  {
   "cell_type": "markdown",
   "metadata": {},
   "source": [
    "## PCA\n",
    "* 通过沿着数据最大方差方向旋转坐标轴来实现\n",
    "    * 选择方差最大的方向作为第一条坐标轴\n",
    "    * 后续坐标轴选择与前面坐标轴正交，且方差最大的方向"
   ]
  },
  {
   "cell_type": "code",
   "execution_count": 3,
   "metadata": {},
   "outputs": [],
   "source": [
    "def pca(dataMat, topNfeat=9999999):\n",
    "    '''\n",
    "    数据降维\n",
    "    输入：原始数据dataMat，特征数topNfeat\n",
    "    输出：降维后的数据lowDDataMat，重构的数据reconMat\n",
    "    '''\n",
    "    meanVals = mean(dataMat, axis=0)\n",
    "    meanRemoved = dataMat - meanVals \n",
    "    covMat = cov(meanRemoved, rowvar=0)\n",
    "    eigVals,eigVects = linalg.eig(mat(covMat))\n",
    "    eigValInd = argsort(eigVals)                 # 按特征值大小对特征向量从小到大排序\n",
    "    eigValInd = eigValInd[:-(topNfeat+1):-1]     # 取前n个最大特征值对应的特征向量\n",
    "    redEigVects = eigVects[:,eigValInd]       \n",
    "    lowDDataMat = meanRemoved * redEigVects      # 将数据转到新的空间\n",
    "    reconMat = (lowDDataMat * redEigVects.T) + meanVals\n",
    "    return lowDDataMat, reconMat"
   ]
  },
  {
   "cell_type": "code",
   "execution_count": 4,
   "metadata": {},
   "outputs": [],
   "source": [
    "def replaceNanWithMean(): \n",
    "    '''\n",
    "    用平均值代替空值\n",
    "    '''\n",
    "    datMat = loadDataSet('data/secom.data', ' ')\n",
    "    numFeat = shape(datMat)[1]\n",
    "    for i in range(numFeat):\n",
    "        meanVal = mean(datMat[nonzero(~isnan(datMat[:,i].A))[0],i])  #values that are not NaN (a number)\n",
    "        datMat[nonzero(isnan(datMat[:,i].A))[0],i] = meanVal        #set NaN values to mean\n",
    "    return datMat"
   ]
  },
  {
   "cell_type": "code",
   "execution_count": 9,
   "metadata": {},
   "outputs": [
    {
     "name": "stdout",
     "output_type": "stream",
     "text": [
      "[[-6.39070760e-04 -1.20314234e-04  1.22460363e-04 ...  0.00000000e+00\n",
      "   0.00000000e+00  0.00000000e+00]\n",
      " [ 2.35722934e-05 -6.60163227e-04  1.71369126e-03 ...  0.00000000e+00\n",
      "   0.00000000e+00  0.00000000e+00]\n",
      " [ 2.36801459e-04  1.58026311e-04  3.28185512e-04 ...  0.00000000e+00\n",
      "   0.00000000e+00  0.00000000e+00]\n",
      " ...\n",
      " [ 2.61329351e-08 -6.06233975e-09  1.09328336e-09 ...  0.00000000e+00\n",
      "   0.00000000e+00  0.00000000e+00]\n",
      " [ 5.62597732e-09  5.96647587e-09  8.83024927e-09 ...  0.00000000e+00\n",
      "   0.00000000e+00  0.00000000e+00]\n",
      " [ 3.89298443e-04 -2.32070657e-04  7.13534990e-04 ...  0.00000000e+00\n",
      "   0.00000000e+00  0.00000000e+00]]\n",
      "590\n"
     ]
    }
   ],
   "source": [
    "datMat = replaceNanWithMean()\n",
    "meanVals = mean(datMat, axis=0)\n",
    "meanRemoved = datMat - meanVals \n",
    "covMat = cov(meanRemoved, rowvar=0)\n",
    "eigVals,eigVects = linalg.eig(mat(covMat))\n",
    "print(eigVects)                              # 观察特征向量的大小\n",
    "print(len(eigVects))"
   ]
  },
  {
   "cell_type": "code",
   "execution_count": null,
   "metadata": {},
   "outputs": [],
   "source": []
  }
 ],
 "metadata": {
  "kernelspec": {
   "display_name": "Python 3",
   "language": "python",
   "name": "python3"
  },
  "language_info": {
   "codemirror_mode": {
    "name": "ipython",
    "version": 3
   },
   "file_extension": ".py",
   "mimetype": "text/x-python",
   "name": "python",
   "nbconvert_exporter": "python",
   "pygments_lexer": "ipython3",
   "version": "3.6.6"
  }
 },
 "nbformat": 4,
 "nbformat_minor": 2
}

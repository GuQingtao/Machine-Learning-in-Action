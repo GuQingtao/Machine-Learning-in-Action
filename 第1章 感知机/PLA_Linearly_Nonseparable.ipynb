{
 "cells": [
  {
   "cell_type": "code",
   "execution_count": 1,
   "metadata": {},
   "outputs": [],
   "source": [
    "%matplotlib inline"
   ]
  },
  {
   "cell_type": "code",
   "execution_count": 2,
   "metadata": {},
   "outputs": [],
   "source": [
    "import pandas as pd\n",
    "import numpy as np\n",
    "import matplotlib.pyplot as plt"
   ]
  },
  {
   "cell_type": "markdown",
   "metadata": {},
   "source": [
    "# 读取CSV数据"
   ]
  },
  {
   "cell_type": "code",
   "execution_count": 3,
   "metadata": {},
   "outputs": [],
   "source": [
    "data1 = pd.read_csv('data2.csv',header=None)\n",
    "data1.columns = ['X1', 'X2', 'Labels']"
   ]
  },
  {
   "cell_type": "markdown",
   "metadata": {},
   "source": [
    "# 整理数据"
   ]
  },
  {
   "cell_type": "code",
   "execution_count": 4,
   "metadata": {},
   "outputs": [],
   "source": [
    "X = np.hstack((np.array(data1['X1']).reshape(-1,1),np.array(data1['X2']).reshape(-1,1)))\n",
    "X = np.hstack((np.ones([X.shape[0],1]),X))\n",
    "Y = np.array(data1['Labels']).reshape(-1,1)\n",
    "#print(X,Y)"
   ]
  },
  {
   "cell_type": "markdown",
   "metadata": {},
   "source": [
    "# 初始化权重"
   ]
  },
  {
   "cell_type": "code",
   "execution_count": 5,
   "metadata": {},
   "outputs": [],
   "source": [
    "W = np.zeros([3,1])\n",
    "#print(W)"
   ]
  },
  {
   "cell_type": "markdown",
   "metadata": {},
   "source": [
    "# Cyclic 处理线性可分数据"
   ]
  },
  {
   "cell_type": "code",
   "execution_count": 6,
   "metadata": {},
   "outputs": [],
   "source": [
    "def linearly_separable(X,Y,W,iter_num=1000):\n",
    "    \n",
    "    for i in range(iter_num):\n",
    "        flag = False\n",
    "        for j in range(X.shape[0]):\n",
    "            pred = np.sign(np.dot(X[j:j+1,:],W))\n",
    "            #print(pred,Y[j])\n",
    "            if (pred != Y[j]):\n",
    "                if (flag == False):\n",
    "                    flag = True\n",
    "                W += Y[j]*X[j:j+1,:].reshape(3,1)\n",
    "                #print(W)\n",
    "        if flag == False:\n",
    "            print('All classified True')\n",
    "            break            \n",
    "        else:\n",
    "            print('Not All is True')  \n",
    "    return W"
   ]
  },
  {
   "cell_type": "markdown",
   "metadata": {},
   "source": [
    "# 算法学习：Packet 处理线性不可分数据"
   ]
  },
  {
   "cell_type": "code",
   "execution_count": 7,
   "metadata": {},
   "outputs": [],
   "source": [
    "def error_count(X,Y,w):\n",
    "    count = 0\n",
    "    for j in range(X.shape[0]):\n",
    "        pred = np.sign(np.dot(X[j],w))\n",
    "        if (pred != Y[j]):\n",
    "            count += 1\n",
    "    return count\n"
   ]
  },
  {
   "cell_type": "code",
   "execution_count": 8,
   "metadata": {},
   "outputs": [],
   "source": [
    "def linearly_nonseparable(X,Y,W,iter_num=1000,min_change=0.01):\n",
    "    weight = [W]\n",
    "    for i in range(iter_num):\n",
    "        flag = False\n",
    "        for j in range(X.shape[0]):\n",
    "            pred = np.sign(np.dot(X[j],W))\n",
    "            if (pred != Y[j]):\n",
    "                flag = True\n",
    "                W_new = W + Y[j]*X[j].reshape(3,1)\n",
    "                if error_count(X,Y,W_new)<error_count(X,Y,W):\n",
    "                    W = W_new\n",
    "                    weight.append(W)\n",
    "        if (flag == False):\n",
    "            print('All is True')\n",
    "            break\n",
    "        change = np.linalg.norm(weight[-1] - weight[-2]) / (np.linalg.norm(weight[-1]) + np.linalg.norm(weight[-2]))\n",
    "        if (change<min_change):\n",
    "            print('Already Converged')\n",
    "            break\n",
    "    return W                "
   ]
  },
  {
   "cell_type": "markdown",
   "metadata": {},
   "source": [
    "# 训练：先用Cyclic 进行预处理，然后用Packet处理不可分数据"
   ]
  },
  {
   "cell_type": "code",
   "execution_count": 9,
   "metadata": {},
   "outputs": [
    {
     "name": "stdout",
     "output_type": "stream",
     "text": [
      "Not All is True\n",
      "Not All is True\n",
      "Not All is True\n",
      "Not All is True\n",
      "Not All is True\n",
      "Not All is True\n",
      "Not All is True\n",
      "Not All is True\n",
      "Not All is True\n",
      "Not All is True\n",
      "Not All is True\n",
      "Not All is True\n",
      "Not All is True\n",
      "Not All is True\n",
      "Not All is True\n",
      "Not All is True\n",
      "Not All is True\n",
      "Not All is True\n",
      "Not All is True\n",
      "Not All is True\n",
      "Not All is True\n",
      "Not All is True\n",
      "Not All is True\n",
      "Not All is True\n",
      "Not All is True\n",
      "Not All is True\n",
      "Not All is True\n",
      "Not All is True\n",
      "Not All is True\n",
      "Not All is True\n",
      "Not All is True\n",
      "Not All is True\n",
      "Not All is True\n",
      "Not All is True\n",
      "Not All is True\n",
      "Not All is True\n",
      "Not All is True\n",
      "Not All is True\n",
      "Not All is True\n",
      "Not All is True\n",
      "Not All is True\n",
      "Not All is True\n",
      "Not All is True\n",
      "Not All is True\n",
      "Not All is True\n",
      "Not All is True\n",
      "Not All is True\n",
      "Not All is True\n",
      "Not All is True\n",
      "Not All is True\n",
      "Not All is True\n",
      "Not All is True\n",
      "Not All is True\n",
      "Not All is True\n",
      "Not All is True\n",
      "Not All is True\n",
      "Not All is True\n",
      "Not All is True\n",
      "Not All is True\n",
      "Not All is True\n",
      "Not All is True\n",
      "Not All is True\n",
      "Not All is True\n",
      "Not All is True\n",
      "Not All is True\n",
      "Not All is True\n",
      "Not All is True\n",
      "Not All is True\n",
      "Not All is True\n",
      "Not All is True\n",
      "Not All is True\n",
      "Not All is True\n",
      "Not All is True\n",
      "Not All is True\n",
      "Not All is True\n",
      "Not All is True\n",
      "Not All is True\n",
      "Not All is True\n",
      "Not All is True\n",
      "Not All is True\n",
      "Not All is True\n",
      "Not All is True\n",
      "Not All is True\n",
      "Not All is True\n",
      "Not All is True\n",
      "Not All is True\n",
      "Not All is True\n",
      "Not All is True\n",
      "Not All is True\n",
      "Not All is True\n",
      "Not All is True\n",
      "Not All is True\n",
      "Not All is True\n",
      "Not All is True\n",
      "Not All is True\n",
      "Not All is True\n",
      "Not All is True\n",
      "Not All is True\n",
      "Not All is True\n",
      "Not All is True\n",
      "[[ -3. ]\n",
      " [-71.9]\n",
      " [ 80.3]]\n",
      "[[ -2. ]\n",
      " [-66.1]\n",
      " [ 85.4]]\n"
     ]
    }
   ],
   "source": [
    "W1 = linearly_separable(X, Y, W, iter_num=100)\n",
    "print(W1)\n",
    "W2 = linearly_nonseparable(X, Y, W1, iter_num=50000)\n",
    "print(W2)"
   ]
  },
  {
   "cell_type": "code",
   "execution_count": 10,
   "metadata": {},
   "outputs": [
    {
     "data": {
      "image/png": "[encoded data removed]",
      "text/plain": [
       "<Figure size 432x288 with 1 Axes>"
      ]
     },
     "metadata": {},
     "output_type": "display_data"
    }
   ],
   "source": [
    "x1min = np.amin(data1['X1'])\n",
    "x1max = np.amax(data1['X1'])\n",
    "#画图\n",
    "x1 = np.array([x1min, x1max])\n",
    "x2 = -(x1 * W2[1,0] + W2[0,0]) / W2[2,0]\n",
    "plt.figure\n",
    "plt.scatter(data1['X1'][0:50],data1['X2'][0:50],c='red')\n",
    "plt.scatter(data1['X1'][50:],data1['X2'][50:],c='blue')\n",
    "plt.legend(['positive','nagetive'])\n",
    "\n",
    "plt.plot(x1, x2)\n",
    "plt.show()"
   ]
  },
  {
   "cell_type": "code",
   "execution_count": null,
   "metadata": {},
   "outputs": [],
   "source": []
  }
 ],
 "metadata": {
  "kernelspec": {
   "display_name": "Python 3",
   "language": "python",
   "name": "python3"
  },
  "language_info": {
   "codemirror_mode": {
    "name": "ipython",
    "version": 3
   },
   "file_extension": ".py",
   "mimetype": "text/x-python",
   "name": "python",
   "nbconvert_exporter": "python",
   "pygments_lexer": "ipython3",
   "version": "3.6.6"
  }
 },
 "nbformat": 4,
 "nbformat_minor": 2
}

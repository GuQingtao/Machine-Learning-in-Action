{
 "cells": [
  {
   "cell_type": "markdown",
   "metadata": {},
   "source": [
    "# 建立 Kd_Tree "
   ]
  },
  {
   "cell_type": "code",
   "execution_count": 1,
   "metadata": {},
   "outputs": [],
   "source": [
    "import numpy as np"
   ]
  },
  {
   "cell_type": "markdown",
   "metadata": {},
   "source": [
    "# 分为两部分：Kd树的建立；Kd树的搜索"
   ]
  },
  {
   "cell_type": "markdown",
   "metadata": {},
   "source": [
    "## 实现一个结点类"
   ]
  },
  {
   "cell_type": "code",
   "execution_count": 2,
   "metadata": {},
   "outputs": [],
   "source": [
    "class Node: #结点\n",
    "    def __init__(self, data, lchild = None, rchild = None):\n",
    "        '''一个节点包括节点域，左子树，右子树'''\n",
    "        self.data = data\n",
    "        self.lchild = lchild\n",
    "        self.rchild = rchild\n",
    " \n",
    "class KdTree:   \n",
    "    #kd树\n",
    "    def __init__(self):\n",
    "        self.kdTree = None\n",
    "    \n",
    "    def create(self, dataSet, depth):   \n",
    "        '''创建kd树，返回根结点'''\n",
    "        if (len(dataSet) > 0):\n",
    "            m, n = np.shape(dataSet)    #求出样本行，列\n",
    "            midIndex = int(m / 2) #中间数的索引位置\n",
    "            axis = depth % n    #判断以哪个轴划分数据\n",
    "            \n",
    "            sortedDataSet = self.sort(dataSet, axis) #进行排序\n",
    "            node = Node(sortedDataSet[midIndex]) #将节点数据域设置为中位数\n",
    "            \n",
    "            leftDataSet = sortedDataSet[: midIndex] #将中位数的左边创建2改副本\n",
    "            rightDataSet = sortedDataSet[midIndex+1 :]\n",
    "            print('左子树：',leftDataSet)\n",
    "            print('右子树：',rightDataSet)\n",
    "            \n",
    "            node.lchild = self.create(leftDataSet, depth+1) #将中位数左边样本传入来递归创建树\n",
    "            node.rchild = self.create(rightDataSet, depth+1)\n",
    "            \n",
    "            return node\n",
    "        else:\n",
    "            return None\n",
    "    \n",
    "    \n",
    "    def sort(self, dataSet, axis):  \n",
    "        '''采用冒泡排序，利用aixs作为轴进行划分'''\n",
    "        sortDataSet = dataSet[:]    #由于不能破坏原样本，此处建立一个副本\n",
    "        m, n = np.shape(sortDataSet)\n",
    "        for i in range(m):\n",
    "            for j in range(0, m - i - 1):\n",
    "                if (sortDataSet[j][axis] > sortDataSet[j+1][axis]):\n",
    "                    temp = sortDataSet[j]\n",
    "                    sortDataSet[j] = sortDataSet[j+1]\n",
    "                    sortDataSet[j+1] = temp\n",
    "        print('冒泡排序',sortDataSet)\n",
    "        return sortDataSet\n",
    "    \n",
    "    \n",
    "    def preOrder(self, node):\n",
    "        '''前序遍历'''\n",
    "        if node != None:\n",
    "            print('>>',node.data)\n",
    "            self.preOrder(node.lchild)\n",
    "            self.preOrder(node.rchild)\n",
    " \n",
    "    def search(self, tree, x):  \n",
    "        ''' \n",
    "        (1)在kd树中找出包含目标点x的叶结点：从根结点出发，递归的向下访问kd树。若目标点当前维的坐标值小于切分点的坐标值，\n",
    "        则移动到左子结点，否则移动到右子结点。\n",
    "        直到子结点为叶结点为止；\n",
    "        (2)以此叶结点为“当前最近点”；\n",
    "        (3)递归的向上回退，在每个结点进行以下操作：\n",
    "        (a） 如果该结点保存的实例点比当前最近点距目标点更近，则以该实例点为“当前最近点”；\n",
    "        (b) 当前最近点一定存在于该结点一个子结点对应的区域。\n",
    "        检查该子结点的父结点的另一个子结点对应的区域是否有更近的点。具体的，检查另一个子结点对应的区域是否与以目标点为球心、\\\n",
    "        以目标点与“当前最近点”间的距离为半径的超球体相交。如果相交，可能在另一个子结点对应的区域内存在距离目标更近的点，\\\n",
    "        移动到另一个子结点。接着，递归的进行最近邻搜索。如果不相交，向上回退。\\\n",
    "        （4） 当回退到根结点时，搜索结束。最后的“当前最近点”即为x的最近邻点。\n",
    "        '''\n",
    "        self.nearestPoint = None    #保存最近的点\n",
    "        self.nearestValue = 0   #保存最近的值\n",
    "        def travel(node, depth = 0):    #递归搜索\n",
    "            if node != None:    #递归终止条件\n",
    "                n = len(x)  #特征数\n",
    "                axis = depth % n    #计算轴\n",
    "                if x[axis] < node.data[axis]:   #如果数据小于结点，则往左结点找\n",
    "                    travel(node.lchild, depth+1)\n",
    "                else:\n",
    "                    travel(node.rchild, depth+1)\n",
    " \n",
    "                #以下是递归完毕后，往父结点方向回朔，对应算法3.3(3)\n",
    "                distNodeAndX = self.dist(x, node.data)  #目标和节点的距离判断\n",
    "                if (self.nearestPoint == None): #确定当前点，更新最近的点和最近的值，对应算法3.3(3)(a)\n",
    "                    self.nearestPoint = node.data\n",
    "                    self.nearestValue = distNodeAndX\n",
    "                elif (self.nearestValue > distNodeAndX):\n",
    "                    self.nearestPoint = node.data\n",
    "                    self.nearestValue = distNodeAndX\n",
    " \n",
    "                print(node.data, depth, self.nearestValue, node.data[axis], x[axis])\n",
    "                if (abs(x[axis] - node.data[axis]) <= self.nearestValue):  #确定是否需要去子节点的区域去找（圆的判断），对应算法3.3(3)(b)\n",
    "                    if x[axis] < node.data[axis]:\n",
    "                        travel(node.rchild, depth+1)\n",
    "                    else:\n",
    "                        travel(node.lchild, depth + 1)\n",
    "        travel(tree)\n",
    "        return self.nearestPoint\n",
    "    def dist(self, x1, x2): #欧式距离的计算\n",
    "        return ((np.array(x1) - np.array(x2)) ** 2).sum() ** 0.5"
   ]
  },
  {
   "cell_type": "code",
   "execution_count": 3,
   "metadata": {},
   "outputs": [
    {
     "name": "stdout",
     "output_type": "stream",
     "text": [
      "冒泡排序 [[2, 3], [4, 7], [5, 4], [7, 2], [8, 1], [9, 6]]\n",
      "左子树： [[2, 3], [4, 7], [5, 4]]\n",
      "右子树： [[8, 1], [9, 6]]\n",
      "冒泡排序 [[2, 3], [5, 4], [4, 7]]\n",
      "左子树： [[2, 3]]\n",
      "右子树： [[4, 7]]\n",
      "冒泡排序 [[2, 3]]\n",
      "左子树： []\n",
      "右子树： []\n",
      "冒泡排序 [[4, 7]]\n",
      "左子树： []\n",
      "右子树： []\n",
      "冒泡排序 [[8, 1], [9, 6]]\n",
      "左子树： [[8, 1]]\n",
      "右子树： []\n",
      "冒泡排序 [[8, 1]]\n",
      "左子树： []\n",
      "右子树： []\n",
      "前序遍历\n",
      ">> [7, 2]\n",
      ">> [5, 4]\n",
      ">> [2, 3]\n",
      ">> [4, 7]\n",
      ">> [9, 6]\n",
      ">> [8, 1]\n",
      "[2, 3] 2 3.0 2 5\n",
      "[5, 4] 1 1.0 4 3\n",
      "[4, 7] 2 1.0 4 5\n",
      "[7, 2] 0 1.0 7 5\n",
      "[5, 4]\n"
     ]
    }
   ],
   "source": [
    "if __name__ == '__main__':\n",
    "    dataSet = [[2, 3],\n",
    "               [5, 4],\n",
    "               [9, 6],\n",
    "               [4, 7],\n",
    "               [8, 1],\n",
    "               [7, 2]]\n",
    "    x = [5, 3]\n",
    "    kdtree = KdTree()\n",
    "    tree = kdtree.create(dataSet, 0)\n",
    "    print('前序遍历')\n",
    "    kdtree.preOrder(tree)\n",
    "    print(kdtree.search(tree, x))"
   ]
  },
  {
   "cell_type": "code",
   "execution_count": null,
   "metadata": {},
   "outputs": [],
   "source": []
  }
 ],
 "metadata": {
  "kernelspec": {
   "display_name": "Python 3",
   "language": "python",
   "name": "python3"
  },
  "language_info": {
   "codemirror_mode": {
    "name": "ipython",
    "version": 3
   },
   "file_extension": ".py",
   "mimetype": "text/x-python",
   "name": "python",
   "nbconvert_exporter": "python",
   "pygments_lexer": "ipython3",
   "version": "3.6.5"
  }
 },
 "nbformat": 4,
 "nbformat_minor": 2
}

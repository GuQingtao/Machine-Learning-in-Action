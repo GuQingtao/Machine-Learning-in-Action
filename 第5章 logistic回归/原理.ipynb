{
 "cells": [
  {
   "cell_type": "markdown",
   "metadata": {},
   "source": [
    "Logistic 回归：最后得到的是概率值，可以看做是一种概率估计。\n",
    "\n",
    "原理：根据现有数据对分类边界线建立回归公式，并以此来对数据集进行分类\n",
    "\n",
    "方法：给每一个特征都乘上一个回归系数，然后把所有的结果值相加，将这个总和带入Sigmoid函数中，进而得到一个（0,1）之间的数值。任何大于0.5的数据被  分为1类，小于0.5的被归为0类。\n",
    "\n",
    "最佳回归系数的确定：最优化方法\n",
    "（1）梯度下降法：w = w - alpha * f'(x)"
   ]
  },
  {
   "cell_type": "code",
   "execution_count": null,
   "metadata": {},
   "outputs": [],
   "source": []
  }
 ],
 "metadata": {
  "kernelspec": {
   "display_name": "Python 3",
   "language": "python",
   "name": "python3"
  },
  "language_info": {
   "codemirror_mode": {
    "name": "ipython",
    "version": 3
   },
   "file_extension": ".py",
   "mimetype": "text/x-python",
   "name": "python",
   "nbconvert_exporter": "python",
   "pygments_lexer": "ipython3",
   "version": "3.6.6"
  }
 },
 "nbformat": 4,
 "nbformat_minor": 2
}

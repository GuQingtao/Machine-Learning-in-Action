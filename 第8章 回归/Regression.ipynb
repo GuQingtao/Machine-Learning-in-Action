{
 "cells": [
  {
   "cell_type": "markdown",
   "metadata": {},
   "source": [
    "## 导入库"
   ]
  },
  {
   "cell_type": "code",
   "execution_count": 1,
   "metadata": {},
   "outputs": [],
   "source": [
    "%matplotlib inline\n",
    "from numpy import *\n",
    "import matplotlib.pyplot as plt"
   ]
  },
  {
   "cell_type": "markdown",
   "metadata": {},
   "source": [
    "## 导入数据"
   ]
  },
  {
   "cell_type": "code",
   "execution_count": 2,
   "metadata": {},
   "outputs": [],
   "source": [
    "def loadDataSet(fileName):\n",
    "    numFeat = len(open(fileName).readline().split('\\t')) - 1\n",
    "    datMat = []; labelMat = []\n",
    "    fr = open(fileName)\n",
    "    for line in fr.readlines():\n",
    "        lineArr = []\n",
    "        curLine = line.strip().split('\\t')\n",
    "        for i in range(numFeat):\n",
    "            lineArr.append(float(curLine[i]))\n",
    "        datMat.append(lineArr)\n",
    "        labelMat.append(float(curLine[-1]))\n",
    "    return datMat,labelMat"
   ]
  },
  {
   "cell_type": "markdown",
   "metadata": {},
   "source": [
    "## 标准回归函数\n",
    "    Ws = (X.T * X).I * X.T * Y"
   ]
  },
  {
   "cell_type": "code",
   "execution_count": 3,
   "metadata": {},
   "outputs": [],
   "source": [
    "def standRegres(xArr, yArr):\n",
    "    xMat = mat(xArr);yMat = mat(yArr).T\n",
    "    xTx = xMat.T * xMat\n",
    "    \n",
    "    if linalg.det(xTx) == 0.0:\n",
    "        print('This matrix is singular, cannot do inverse')\n",
    "        return\n",
    "    ws = xTx.I * xMat.T * yMat\n",
    "    return ws"
   ]
  },
  {
   "cell_type": "code",
   "execution_count": 4,
   "metadata": {},
   "outputs": [
    {
     "name": "stdout",
     "output_type": "stream",
     "text": [
      "[[3.00774324]\n",
      " [1.69532264]]\n"
     ]
    }
   ],
   "source": [
    "xArr, yArr = loadDataSet('data/ex0.txt')\n",
    "#print(xArr[0:2])\n",
    "ws = standRegres(xArr,yArr)\n",
    "print(ws)"
   ]
  },
  {
   "cell_type": "markdown",
   "metadata": {},
   "source": [
    "## 绘制数据散点图和最佳拟合直线"
   ]
  },
  {
   "cell_type": "code",
   "execution_count": 16,
   "metadata": {},
   "outputs": [
    {
     "data": {
      "image/png": "[encoded data removed]",
      "text/plain": [
       "<Figure size 432x288 with 1 Axes>"
      ]
     },
     "metadata": {
      "needs_background": "light"
     },
     "output_type": "display_data"
    }
   ],
   "source": [
    "def plotfit(xArr, yArr, ws, yHat):\n",
    "    xMat = mat(xArr); yMat = mat(yArr).T\n",
    "   \n",
    "    fig = plt.figure()\n",
    "    ax = fig.add_subplot(111)\n",
    "    ax.scatter(xMat[:,1].tolist(), yMat.tolist())\n",
    "    \n",
    "    x1 = xMat.copy()\n",
    "    x1.sort(0)\n",
    "    yHat = x1 * ws\n",
    "    ax.plot(x1[:,1],yHat,'red')\n",
    "    \n",
    "plotfit(xArr,yArr,ws)"
   ]
  },
  {
   "cell_type": "markdown",
   "metadata": {},
   "source": [
    "## 计算相关系数：计算预测值与真实值之间的匹配程度"
   ]
  },
  {
   "cell_type": "code",
   "execution_count": 8,
   "metadata": {},
   "outputs": [
    {
     "data": {
      "text/plain": [
       "array([[1.        , 0.98647356],\n",
       "       [0.98647356, 1.        ]])"
      ]
     },
     "execution_count": 8,
     "metadata": {},
     "output_type": "execute_result"
    }
   ],
   "source": [
    "xMat = mat(xArr); yMat = mat(yArr).T\n",
    "yHat = xMat * ws\n",
    "corrcoef(yMat.T,yHat.T)                  # 相关系数计算必须抱枕两个向量都是行向量"
   ]
  },
  {
   "cell_type": "markdown",
   "metadata": {},
   "source": [
    "## 局部加权线性回归\n",
    "    Ws = (X.T * W * X).I * X.T * W * y\n",
    "    W 为高斯核：exp(-(xi-x)^2/(2*k^2))"
   ]
  },
  {
   "cell_type": "code",
   "execution_count": 53,
   "metadata": {},
   "outputs": [],
   "source": [
    "def lwlr(testPoint, xArr, yArr, k=1.0):\n",
    "    xMat = mat(xArr); yMat = mat(yArr).T\n",
    "    m = shape(xMat)[0]\n",
    "    weights = mat(eye(m))\n",
    "    \n",
    "    for j in range(m):\n",
    "        diffMat = testPoint - xMat[j,:]\n",
    "        weights[j,j] = exp(diffMat*diffMat.T/(-2.0 * k ** 2))\n",
    "    xTx = xMat.T * weights * xMat\n",
    "    \n",
    "    if linalg.det(xTx) == 0.0:\n",
    "        print('This matrix is singular, cannot do inverse')\n",
    "        return\n",
    "    ws = xTx.I * xMat.T * weights * yMat\n",
    "    #print(ws)\n",
    "    return testPoint * ws   \n",
    "        "
   ]
  },
  {
   "cell_type": "code",
   "execution_count": 54,
   "metadata": {},
   "outputs": [],
   "source": [
    "def lwlrTest(testArr, xArr, yArr, k=1.0):\n",
    "    m = shape(testArr)[0]\n",
    "    yHat = zeros(m)\n",
    "    for i in range(m):\n",
    "        yHat[i] = lwlr(testArr[i], xArr, yArr,k)\n",
    "    return yHat"
   ]
  },
  {
   "cell_type": "code",
   "execution_count": 66,
   "metadata": {},
   "outputs": [],
   "source": [
    "xArr, yArr = loadDataSet('data/ex0.txt')\n",
    "yHat = lwlrTest(xArr, xArr, yArr, 0.01)"
   ]
  },
  {
   "cell_type": "code",
   "execution_count": 67,
   "metadata": {},
   "outputs": [
    {
     "data": {
      "text/plain": [
       "[<matplotlib.lines.Line2D at 0x8a1f6d8>]"
      ]
     },
     "execution_count": 67,
     "metadata": {},
     "output_type": "execute_result"
    },
    {
     "data": {
      "image/png": "[encoded data removed]",
      "text/plain": [
       "<Figure size 432x288 with 1 Axes>"
      ]
     },
     "metadata": {
      "needs_background": "light"
     },
     "output_type": "display_data"
    }
   ],
   "source": [
    "srtInd = xMat[:,1].argsort(0)                 #对 xMat 沿第二列进行排序，返回索引值\n",
    "xsort = xMat[srtInd][:,0,:]     \n",
    "\n",
    "fig = plt.figure()\n",
    "ax = fig.add_subplot(111)\n",
    "ax.scatter(xMat[:,1].tolist(),mat(yArr).T.tolist(),s=2,c='red')\n",
    "ax.plot(xsort[:,1],yHat[srtInd])\n"
   ]
  },
  {
   "cell_type": "markdown",
   "metadata": {},
   "source": [
    "# 预测鲍鱼的年龄"
   ]
  },
  {
   "cell_type": "code",
   "execution_count": 68,
   "metadata": {},
   "outputs": [],
   "source": [
    "def rssError(yArr, yHatArr):\n",
    "    return ((yArr-yHatArr)**2).sum()"
   ]
  },
  {
   "cell_type": "code",
   "execution_count": 71,
   "metadata": {},
   "outputs": [
    {
     "data": {
      "text/plain": [
       "56.81549669032892"
      ]
     },
     "execution_count": 71,
     "metadata": {},
     "output_type": "execute_result"
    }
   ],
   "source": [
    "abX, abY = loadDataSet('data/abalone.txt')\n",
    "yHat = lwlrTest(abX[0:99],abX[0:99],abY[0:99],0.1)\n",
    "rssError(abY[0:99],yHat.T)"
   ]
  },
  {
   "cell_type": "markdown",
   "metadata": {},
   "source": [
    "# 用于处理特征比样本点还多的情况\n",
    "## 岭回归：\n",
    "    * 岭回归：在矩阵 X.T*X 上加上一个 lambda*I 从而使得矩阵非奇异,进而可以求逆\n",
    "        w = (X.T*X + lambda*I).I * X.T * y     通过引入惩罚项lambda来限制所有w的和，减少不必要的参数\n",
    "        在增加约束条件：sum(pow(Wi,2))<=lambda ，普通的最小二乘法会得到与岭回归一样的公式 "
   ]
  },
  {
   "cell_type": "code",
   "execution_count": 72,
   "metadata": {},
   "outputs": [],
   "source": [
    "def ridgeRegres(xMat,yMat,lam=0.2):\n",
    "    xTx = xMat.T * xMat\n",
    "    demon = xTx + eye(shape(xMat)[1])*lam\n",
    "    if linalg.det(demon) == 0.0:\n",
    "        print('This matrix is singular, cannot do inverse')\n",
    "        return\n",
    "    ws = demon * xMat.T * yMat\n",
    "    return ws"
   ]
  },
  {
   "cell_type": "code",
   "execution_count": 73,
   "metadata": {},
   "outputs": [],
   "source": [
    "def ridgeTest(xArr,yArr):\n",
    "    xMat = mat(xArr); yMat = mat(yArr).T\n",
    "    yMean = mean(yMat, 0)\n",
    "    yMat = yMat-yMean\n",
    "    \n",
    "    xMeans = mean(xMat,0)\n",
    "    xVar = var(xMat,0)\n",
    "    xMat = (xMat-xMeans) / xVar\n",
    "    \n",
    "    numTestPts = 30\n",
    "    wMat = zeros((numTestPts,shape(xMat)[1]))\n",
    "    for i in range(numTestPts):\n",
    "        ws = ridgeRegres(xMat, yMat, exp(i-10))\n",
    "        wMat[i,:] = ws.T\n",
    "    return wMat"
   ]
  },
  {
   "cell_type": "code",
   "execution_count": 75,
   "metadata": {},
   "outputs": [
    {
     "data": {
      "text/plain": [
       "[<matplotlib.lines.Line2D at 0x8d636a0>,\n",
       " <matplotlib.lines.Line2D at 0x8d637f0>,\n",
       " <matplotlib.lines.Line2D at 0x8d63940>,\n",
       " <matplotlib.lines.Line2D at 0x8d63a90>,\n",
       " <matplotlib.lines.Line2D at 0x8d63be0>,\n",
       " <matplotlib.lines.Line2D at 0x8d63d30>,\n",
       " <matplotlib.lines.Line2D at 0x8d63e80>,\n",
       " <matplotlib.lines.Line2D at 0x8d63fd0>]"
      ]
     },
     "execution_count": 75,
     "metadata": {},
     "output_type": "execute_result"
    },
    {
     "data": {
      "image/png": "[encoded data removed]",
      "text/plain": [
       "<Figure size 432x288 with 1 Axes>"
      ]
     },
     "metadata": {
      "needs_background": "light"
     },
     "output_type": "display_data"
    }
   ],
   "source": [
    "abX, abY = loadDataSet('data/abalone.txt')\n",
    "ridgeweights = ridgeTest(abX, abY)\n",
    "\n",
    "fig = plt.figure()\n",
    "ax = fig.add_subplot(111)\n",
    "ax.plot(ridgeweights)\n"
   ]
  },
  {
   "cell_type": "markdown",
   "metadata": {},
   "source": [
    "## Lasso 回归： \n",
    "    * 使用绝对值代替平方和，可以增加解的稀疏性\n",
    "    * sum(abs(Wi)) <= lambda"
   ]
  },
  {
   "cell_type": "markdown",
   "metadata": {},
   "source": [
    "## 逐步前向回归：属于一种贪心算法，每一步都尽可能减少误差\n",
    "    伪代码：\n",
    "    * 数据标准化，使其满足0均值和单位方差\n",
    "    * 在每轮迭代过程中：\n",
    "        设置当前最小误差lowestError为正无穷\n",
    "        对每个特征：\n",
    "            增大或减小：\n",
    "                改变一个系数得到一个新的W\n",
    "                计算新W下的误差\n",
    "                如果误差Error小于当前最小误差lowestError：\n",
    "                    设置Wbest为当前的W\n",
    "            将W设置为新的Wbest\n",
    "                "
   ]
  },
  {
   "cell_type": "code",
   "execution_count": 82,
   "metadata": {},
   "outputs": [],
   "source": [
    "def stageWise(xArr, yArr, eps=0.01, numIt=100):\n",
    "    '''输入：数据，预测值，迭代步长，迭代次数'''\n",
    "    xMat = mat(xArr); yMat = mat(yArr).T                               #数据归一化\n",
    "    yMean = mean(yMat, 0)\n",
    "    yMat = yMat-yMean\n",
    "    \n",
    "    xMeans = mean(xMat,0)\n",
    "    xVar = var(xMat,0)\n",
    "    xMat = (xMat-xMeans) / xVar\n",
    "    \n",
    "    m,n = shape(xMat)                                                  #获取数据个数，特征个数\n",
    "    returnMat = zeros((numIt,n))                                       #初始化返回矩阵，存储了每次迭代过程中每个特征的权重\n",
    "    ws = zeros((n,1)); wsTest = ws.copy(); wsMax = ws.copy()           #初始化权重并复制了两个副本\n",
    "    for i in range(numIt):                           #对每一次迭代，只会有一个权重发生改变\n",
    "        #print(ws.T)                                  #打印权重\n",
    "        lowestError = inf;                           #设初始误差为无穷大\n",
    "        for j in range(n):                           #对每一个特征\n",
    "            for sign in [-1,1]:                      #进行减小或增大，计算其预测误差，取计算误差小的权重为最好的权重。\n",
    "                wsTest = ws.copy()\n",
    "                wsTest[j] += eps*sign\n",
    "                yTest = xMat*wsTest\n",
    "                rssE = rssError(yMat.A, yTest.A)\n",
    "                if rssE < lowestError:\n",
    "                    lowestError = rssE\n",
    "                    wsMax = wsTest\n",
    "        ws = wsMax.copy()\n",
    "        returnMat[i,:] = ws.T\n",
    "    return returnMat                "
   ]
  },
  {
   "cell_type": "code",
   "execution_count": 84,
   "metadata": {},
   "outputs": [
    {
     "data": {
      "text/plain": [
       "array([[ 0.  ,  0.  ,  0.  , ...,  0.  ,  0.  ,  0.  ],\n",
       "       [ 0.  ,  0.  ,  0.  , ...,  0.  ,  0.  ,  0.  ],\n",
       "       [ 0.  ,  0.  ,  0.  , ...,  0.  ,  0.  ,  0.  ],\n",
       "       ...,\n",
       "       [ 0.05,  0.  ,  0.09, ..., -0.64,  0.  ,  0.36],\n",
       "       [ 0.04,  0.  ,  0.09, ..., -0.64,  0.  ,  0.36],\n",
       "       [ 0.05,  0.  ,  0.09, ..., -0.64,  0.  ,  0.36]])"
      ]
     },
     "execution_count": 84,
     "metadata": {},
     "output_type": "execute_result"
    }
   ],
   "source": [
    "xArr, yArr = loadDataSet('data/abalone.txt')\n",
    "stageWise(xArr,yArr,0.01,200)"
   ]
  },
  {
   "cell_type": "code",
   "execution_count": null,
   "metadata": {},
   "outputs": [],
   "source": []
  }
 ],
 "metadata": {
  "kernelspec": {
   "display_name": "Python 3",
   "language": "python",
   "name": "python3"
  },
  "language_info": {
   "codemirror_mode": {
    "name": "ipython",
    "version": 3
   },
   "file_extension": ".py",
   "mimetype": "text/x-python",
   "name": "python",
   "nbconvert_exporter": "python",
   "pygments_lexer": "ipython3",
   "version": "3.6.6"
  }
 },
 "nbformat": 4,
 "nbformat_minor": 2
}
